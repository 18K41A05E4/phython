{
  "nbformat": 4,
  "nbformat_minor": 0,
  "metadata": {
    "colab": {
      "name": "AI-Project.ipynb",
      "provenance": [],
      "collapsed_sections": [],
      "authorship_tag": "ABX9TyNap4icpN12lhZE/JaIiX4L",
      "include_colab_link": true
    },
    "kernelspec": {
      "name": "python3",
      "display_name": "Python 3"
    }
  },
  "cells": [
    {
      "cell_type": "markdown",
      "metadata": {
        "id": "view-in-github",
        "colab_type": "text"
      },
      "source": [
        "<a href=\"https://colab.research.google.com/github/18K41A05E4/python/blob/master/AI_Project.ipynb\" target=\"_parent\"><img src=\"https://colab.research.google.com/assets/colab-badge.svg\" alt=\"Open In Colab\"/></a>"
      ]
    },
    {
      "cell_type": "code",
      "metadata": {
        "colab": {
          "base_uri": "https://localhost:8080/"
        },
        "id": "cFfot3ckjPwT",
        "outputId": "bfc7a3df-e1cd-4263-ea0f-717a54d4aafd"
      },
      "source": [
        "import pandas as pd\r\n",
        "import matplotlib.pyplot as plt\r\n",
        "\r\n",
        "er=[]\r\n",
        "m1=[]\r\n",
        "c1=[]\r\n",
        "te=[]\r\n",
        "def compute_error(c, m, x,y):\r\n",
        "    totalError = 0\r\n",
        "    x = x\r\n",
        "    y = y\r\n",
        "    #print(c,m)\r\n",
        "    m1.append(m)\r\n",
        "    c1.append(c)\r\n",
        "    for i in range(0,len(x)):\r\n",
        "        totalError+=(((m * x[i] + c)-y[i]) ** 2)\r\n",
        "    er.append(totalError/len(x))\r\n",
        "    #print(er)\r\n",
        "\r\n",
        "def step_gradient(c_current, m_current, x,y, learningRate):\r\n",
        "    c_gradient = 0.0\r\n",
        "    m_gradient = 0.0\r\n",
        "    N = float(len(x))\r\n",
        "    x = x\r\n",
        "    y = y\r\n",
        "    cg=[]\r\n",
        "    mg=[]\r\n",
        "    for i in range(0,len(x)):\r\n",
        "        cg.append(((m_current * x[i]) + c_current)-y[i])\r\n",
        "        mg.append(x[i] * (((m_current * x) + c_current)-y[i]))\r\n",
        "    c_gradient=(np.array(cg).sum())/N\r\n",
        "    m_gradient=(np.array(mg).sum())/N\r\n",
        "    new_c = c_current - (learningRate * c_gradient)\r\n",
        "    new_m = m_current - (learningRate * m_gradient)\r\n",
        "    compute_error(new_c,new_m,x,y)\r\n",
        "    return [new_c, new_m]\r\n",
        "\r\n",
        "def gradient_descent_runner(x,y, starting_c, starting_m, learning_rate, num_iterations):\r\n",
        "    c = starting_c\r\n",
        "    m = starting_m\r\n",
        "    for i in range(num_iterations):\r\n",
        "      c,m=step_gradient(c, m, x,y, learning_rate)\r\n",
        "      #print(c,m)\r\n",
        "   \r\n",
        "\r\n",
        "def run():\r\n",
        "    sn = pd.read_csv('/content/sample_data/My Uber Drives-AI.csv')\r\n",
        "    x1=sn.iloc[:,6:7]\r\n",
        "    y1=sn.iloc[:,2:3]\r\n",
        "    x=np.array(x1)\r\n",
        "    y=np.array(y1)\r\n",
        "    learning_rate = 0.0001\r\n",
        "    initial_c = 1 # initial y-intercept guess\r\n",
        "    initial_m = 1 # initial slope guess\r\n",
        "    num_iterations = 100\r\n",
        "    compute_error(initial_c, initial_m,x,y)\r\n",
        "    gradient_descent_runner(x,y, initial_c, initial_m, learning_rate, num_iterations)\r\n",
        "    \r\n",
        "\r\n",
        "\r\n",
        "run()\r\n",
        "it=np.arange(0,101)"
      ],
      "execution_count": null,
      "outputs": [
        {
          "output_type": "stream",
          "text": [
            "/usr/local/lib/python3.6/dist-packages/ipykernel_launcher.py:16: RuntimeWarning: overflow encountered in square\n",
            "  app.launch_new_instance()\n"
          ],
          "name": "stderr"
        }
      ]
    },
    {
      "cell_type": "code",
      "metadata": {
        "colab": {
          "base_uri": "https://localhost:8080/",
          "height": 404
        },
        "id": "LYHe4QM7lsPJ",
        "outputId": "810c63c1-ca7d-4e9b-f1f0-1fe696e72c29"
      },
      "source": [
        "sn = pd.read_csv('/content/sample_data/My Uber Drives-AI.csv')\r\n",
        "x1=sn.iloc[:,6:7]\r\n",
        "y1=sn.iloc[:,2:3]\r\n",
        "x=np.array(x1)\r\n",
        "plt.scatter(x1,y1)\r\n",
        "m=max(np.array(m1))\r\n",
        "c=min(np.array(c1))\r\n",
        "e=np.array(er)\r\n",
        "print(er)\r\n",
        "e1=min(e)\r\n",
        "print(er.index(e1))\r\n",
        "print(m1[er.index(e1)],c1[er.index(e1)])\r\n",
        "p=[]\r\n",
        "for i in range(0,len(x1)):\r\n",
        "    p.append(m1[er.index(e1)]*x[i]+c1[er.index(e1)])\r\n",
        "plt.plot(x1,p)\r\n",
        "a=float(input('enter distance : '))\r\n",
        "print(f'time duration : {m1[er.index(e1)]*a+c1[er.index(e1)]}')\r\n",
        "a=float(input('enter distance : '))\r\n",
        "print(f'time duration\r\n",
        " : {m1[er.index(e1)]*a+c1[er.index(e1)]}')"
      ],
      "execution_count": null,
      "outputs": [
        {
          "output_type": "stream",
          "text": [
            "[array([170720.83416955]), array([1.32921873e+14]), array([3.26260893e+17]), array([8.340803e+20]), array([2.1305788e+24]), array([5.44244845e+27]), array([1.39024362e+31]), array([3.55130111e+34]), array([9.07160401e+37]), array([2.31729152e+41]), array([5.91939416e+44]), array([1.51207679e+48]), array([3.86251727e+51]), array([9.86658865e+54]), array([2.52036599e+58]), array([6.43813676e+61]), array([1.64458674e+65]), array([4.20100669e+68]), array([1.07312413e+72]), array([2.74123676e+75]), array([7.00233905e+78]), array([1.78870913e+82]), array([4.56915942e+85]), array([1.16716673e+89]), array([2.98146342e+92]), array([7.61598488e+95]), array([1.94546159e+99]), array([4.96957499e+102]), array([1.26945069e+106]), array([3.2427422e+109]), array([8.2834072e+112]), array([2.11595096e+116]), array([5.40508075e+119]), array([1.38069825e+123]), array([3.52691799e+126]), array([9.00931868e+129]), array([2.30138107e+133]), array([5.87875179e+136]), array([1.50169492e+140]), array([3.83599736e+143]), array([9.79884498e+146]), array([2.50306124e+150]), array([6.39393272e+153]), array([1.63329506e+157]), array([4.17216271e+160]), array([1.06575609e+164]), array([2.72241552e+167]), array([6.95426122e+170]), array([1.77642791e+174]), array([4.53778772e+177]), array([1.159153e+181]), array([2.96099279e+184]), array([7.56369378e+187]), array([1.93210412e+191]), array([4.93545405e+194]), array([1.26073468e+198]), array([3.22047764e+201]), array([8.2265336e+204]), array([2.10142291e+208]), array([5.36796964e+211]), array([1.37121842e+215]), array([3.50270229e+218]), array([8.947461e+221]), array([2.28557987e+225]), array([5.83838848e+228]), array([1.49138433e+232]), array([3.80965953e+235]), array([9.73156643e+238]), array([2.4858753e+242]), array([6.35003219e+245]), array([1.62208092e+249]), array([4.14351678e+252]), array([1.05843865e+256]), array([2.70372351e+259]), array([6.9065135e+262]), array([1.76423101e+266]), array([4.50663142e+269]), array([1.15119429e+273]), array([2.94066272e+276]), array([7.51176171e+279]), array([1.91883835e+283]), array([4.90156739e+286]), array([1.25207852e+290]), array([3.19836595e+293]), array([8.1700505e+296]), array([2.08699461e+300]), array([5.33111334e+303]), array([inf]), array([inf]), array([inf]), array([inf]), array([inf]), array([inf]), array([inf]), array([inf]), array([inf]), array([inf]), array([inf]), array([inf]), array([inf]), array([inf])]\n",
            "0\n",
            "1 1\n",
            "enter distance : 5.1\n",
            "time duration : 6.1\n",
            "enter distance : 96\n",
            "time duration : 97.0\n"
          ],
          "name": "stdout"
        },
        {
          "output_type": "display_data",
          "data": {
            "image/png": "[encoded data removed]",
            "text/plain": [
              "<Figure size 432x288 with 1 Axes>"
            ]
          },
          "metadata": {
            "tags": [],
            "needs_background": "light"
          }
        }
      ]
    },
    {
      "cell_type": "code",
      "metadata": {
        "colab": {
          "base_uri": "https://localhost:8080/",
          "height": 293
        },
        "id": "KZqOk0eCnUjD",
        "outputId": "10430f0b-73cc-44a1-bd56-b9bc531a51bf"
      },
      "source": [
        "a=np.arange(0,101)\r\n",
        "plt.plot(a,er)"
      ],
      "execution_count": null,
      "outputs": [
        {
          "output_type": "execute_result",
          "data": {
            "text/plain": [
              "[<matplotlib.lines.Line2D at 0x7fa2332a7b70>]"
            ]
          },
          "metadata": {
            "tags": []
          },
          "execution_count": 23
        },
        {
          "output_type": "display_data",
          "data": {
            "image/png": "[encoded data removed]",
            "text/plain": [
              "<Figure size 432x288 with 1 Axes>"
            ]
          },
          "metadata": {
            "tags": [],
            "needs_background": "light"
          }
        }
      ]
    }
  ]
}